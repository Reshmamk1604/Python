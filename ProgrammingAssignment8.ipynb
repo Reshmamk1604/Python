{
 "cells": [
  {
   "cell_type": "code",
   "execution_count": 5,
   "id": "c59643ad",
   "metadata": {},
   "outputs": [
    {
     "data": {
      "text/plain": [
       "[[2, 4, 6], [8, 10, 12], [14, 16, 18]]"
      ]
     },
     "execution_count": 5,
     "metadata": {},
     "output_type": "execute_result"
    }
   ],
   "source": [
    "#1. Write a Python Program to Add Two Matrices?\n",
    "a=[[1,2,3],[4,5,6],[7,8,9]]\n",
    "b=[[1,2,3],[4,5,6],[7,8,9]]\n",
    "c=[]\n",
    "def sum_mat(a,b):\n",
    "    for i in range(len(a)):\n",
    "        d=[]\n",
    "        for j in range(len(a[0])):\n",
    "            d.append(a[i][j]+b[i][j])\n",
    "        c.append(d)\n",
    "    return c\n",
    "\n",
    "sum_mat(a,b)\n",
    "\n"
   ]
  },
  {
   "cell_type": "code",
   "execution_count": 6,
   "id": "9fc6cb5c",
   "metadata": {},
   "outputs": [
    {
     "data": {
      "text/plain": [
       "[[1, 4, 9], [16, 25, 36], [49, 64, 81]]"
      ]
     },
     "execution_count": 6,
     "metadata": {},
     "output_type": "execute_result"
    }
   ],
   "source": [
    "#2. Write a Python Program to Multiply Two Matrices?\n",
    "a=[[1,2,3],[4,5,6],[7,8,9]]\n",
    "b=[[1,2,3],[4,5,6],[7,8,9]]\n",
    "c=[]\n",
    "def mul_mat(a,b):\n",
    "    for i in range(len(a)):\n",
    "        d=[]\n",
    "        for j in range(len(a[0])):\n",
    "            d.append(a[i][j]*b[i][j])\n",
    "        c.append(d)\n",
    "    return c\n",
    "\n",
    "mul_mat(a,b)"
   ]
  },
  {
   "cell_type": "code",
   "execution_count": 14,
   "id": "df0bbdf0",
   "metadata": {},
   "outputs": [
    {
     "name": "stdout",
     "output_type": "stream",
     "text": [
      "0\n",
      "1\n",
      "0\n",
      "1\n",
      "0\n",
      "1\n",
      "[[1, 3, 5], [2, 4, 6]]\n"
     ]
    }
   ],
   "source": [
    "#3. Write a Python Program to Transpose a Matrix?\n",
    "a = [[1,2],\n",
    "     [3,4],\n",
    "     [5,6]]\n",
    "\n",
    "b = [[0,0,0],\n",
    "     [0,0,0]]\n",
    "     \n",
    "for i in range(len(a)):\n",
    "    for j in range(len(a[0])):\n",
    "        print(j)\n",
    "        b[j][i] = a[i][j]\n",
    "\n",
    "print(b)"
   ]
  },
  {
   "cell_type": "code",
   "execution_count": 16,
   "id": "a0a4ceaf",
   "metadata": {},
   "outputs": [
    {
     "data": {
      "text/plain": [
       "['am', 'bye', 'hello', 'hi', 'why']"
      ]
     },
     "execution_count": 16,
     "metadata": {},
     "output_type": "execute_result"
    }
   ],
   "source": [
    "#4. Write a Python Program to Sort Words in Alphabetic Order?\n",
    "a=['hi','hello','why','am','bye']\n",
    "a.sort()\n",
    "a"
   ]
  },
  {
   "cell_type": "code",
   "execution_count": 23,
   "id": "b4dcc83d",
   "metadata": {},
   "outputs": [
    {
     "name": "stdout",
     "output_type": "stream",
     "text": [
      "Hi How are you wow its amazing\n"
     ]
    }
   ],
   "source": [
    "#5. Write a Python Program to Remove Punctuation From a String?\n",
    "\n",
    "spl_char = '''''!()-[]{};:'\"\\,<>./?@#$%^&*_~''' \n",
    "a = \"Hi, How are you?. wow!, it's amazing\"\n",
    "\n",
    "newstr = \"\"\n",
    "\n",
    "for i in a:\n",
    "    if i not in spl_char:\n",
    "        newstr += i\n",
    "print(newstr)"
   ]
  },
  {
   "cell_type": "code",
   "execution_count": null,
   "id": "76c5d80e",
   "metadata": {},
   "outputs": [],
   "source": []
  }
 ],
 "metadata": {
  "kernelspec": {
   "display_name": "Python 3 (ipykernel)",
   "language": "python",
   "name": "python3"
  },
  "language_info": {
   "codemirror_mode": {
    "name": "ipython",
    "version": 3
   },
   "file_extension": ".py",
   "mimetype": "text/x-python",
   "name": "python",
   "nbconvert_exporter": "python",
   "pygments_lexer": "ipython3",
   "version": "3.8.3"
  }
 },
 "nbformat": 4,
 "nbformat_minor": 5
}
