{
 "cells": [
  {
   "cell_type": "code",
   "execution_count": 3,
   "id": "33d79bd6",
   "metadata": {},
   "outputs": [],
   "source": [
    "1. What exactly is []?  Ans:\n",
    "    Empty list\n",
    "    \n",
    "2. In a list of values stored in a variable called spam, how would you assign the\n",
    "value 'hello' as the third value? (Assume [2, 4, 6, 8, 10] are in spam.) \n",
    "Ans: spam.insert(2,’hello’)\n",
    "    \n",
    "Let's pretend the spam includes the list ['a', 'b', 'c', 'd'] for the next three queries.\n",
    "3. What is the value of spam[int(int('3' * 2) / 11)]?  Ans: 'd'\n",
    "4. What is the value of spam[-1]?  Ans: 'd'\n",
    "5. What is the value of spam[:2]?  Ans: ['a', 'b']\n",
    "    \n",
    "Let's pretend bacon has the list [3.14, 'cat,' 11, 'cat,' True] for the next three questions.\n",
    "6. What is the value of bacon.index('cat')? ans: 1\n",
    "7. How does bacon.append(99) change the look of the list value in bacon? ans: [3.14, 'cat,' 11, 'cat,' True,99]\n",
    "8. How does bacon.remove('cat') change the look of the list in bacon? ans:[3.14, 11, 'cat,' True]\n",
    "\n",
    "9. What are the list concatenation and list replication operators? ans: + and *\n",
    "10. What is difference between the list methods append() and insert()? \n",
    "ans: append will add the element at end, insert will insert the element at the specified index position\n",
    "    \n",
    "11. What are the two methods for removing items from a list? ans: remove and pop\n",
    "12. Describe how list values and string values are identical.  \n",
    "13. What's the difference between tuples and lists?  \n",
    "ans: we cant add or remove elements to tuple but it can be done in lists using append, remove and pop\n",
    "    \n",
    "14. How do you type a tuple value that only contains the integer 42? t=(42,)\n",
    "15. How do you get a list value's tuple form? How do you get a tuple value's list form? \n",
    "ans: a= [1,2,3,(4,5)] and a= (1,2,3,[4,5])\n",
    "    \n",
    "16. Variables that \"contain\" list values are not necessarily lists themselves. Instead, what do they contain?\n",
    "17. How do you distinguish between copy.copy() and copy.deepcopy()?\n",
    "Ans: shallow copy keeps reference of original elements\n",
    "    deep copy recursively adds the copies of objects\n"
   ]
  }
 ],
 "metadata": {
  "kernelspec": {
   "display_name": "Python 3 (ipykernel)",
   "language": "python",
   "name": "python3"
  },
  "language_info": {
   "codemirror_mode": {
    "name": "ipython",
    "version": 3
   },
   "file_extension": ".py",
   "mimetype": "text/x-python",
   "name": "python",
   "nbconvert_exporter": "python",
   "pygments_lexer": "ipython3",
   "version": "3.8.3"
  }
 },
 "nbformat": 4,
 "nbformat_minor": 5
}
