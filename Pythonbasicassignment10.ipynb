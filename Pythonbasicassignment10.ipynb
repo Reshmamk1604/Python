{
 "cells": [
  {
   "cell_type": "code",
   "execution_count": null,
   "id": "dc866f68",
   "metadata": {},
   "outputs": [],
   "source": [
    "#How do you distinguish between shutil.copy() and shutil.copytree()?\n",
    "The shutil. copy() function will copy a single file, while shutil. copytree() will copy an entire folder, along with all its contents."
   ]
  },
  {
   "cell_type": "code",
   "execution_count": null,
   "id": "204e6a13",
   "metadata": {},
   "outputs": [],
   "source": [
    "2. What function is used to rename files??\n",
    "os.rename()"
   ]
  },
  {
   "cell_type": "code",
   "execution_count": null,
   "id": "0ade4a43",
   "metadata": {},
   "outputs": [],
   "source": [
    "3. What is the difference between the delete functions in the send2trash and shutil modules?\n",
    "The shutil module’s rmtree() function can be used to delete files or folders. But, this function delete the files permanently. The operations cannot be undone if there were any accidental deletions performed\n",
    "send2trash.send2trash() : Using send2trash, we can send files to the Trash or Recycle Bin instead of permanently deleting them. If the directory contains files or other folders, those are also deleted."
   ]
  },
  {
   "cell_type": "code",
   "execution_count": null,
   "id": "a0e3cc2d",
   "metadata": {},
   "outputs": [],
   "source": [
    "4.ZipFile objects have a close() method just like File objects’ close() method. What ZipFile method is\n",
    "equivalent to File objects’ open() method?\n",
    "with ZipFile(file_name, 'r') as zip: -> this code will open specified zipfile for us"
   ]
  },
  {
   "cell_type": "code",
   "execution_count": 6,
   "id": "d131145e",
   "metadata": {},
   "outputs": [
    {
     "name": "stdout",
     "output_type": "stream",
     "text": [
      "Looking in C:\\Users\\dell\\Desktop for files with extensions of .txt, .doc\n",
      "Coping C:\\Users\\dell\\Desktop\\D.txt to C:\\Users\\dell\\Desktop\\abc\n",
      "Coping C:\\Users\\dell\\Desktop\\office 2007\\Serial.txt to C:\\Users\\dell\\Desktop\\abc\n"
     ]
    }
   ],
   "source": [
    "#5. Create a programme that searches a folder tree for files with a certain file extension\n",
    "#(such as .pdf or .jpg). Copy these files from whatever location they are in to a new folder.\n",
    "\n",
    "import os, shutil\n",
    "\n",
    "def Copy(source, extensions, destination):\n",
    "    folder = os.path.abspath(source)\n",
    "    destination = os.path.abspath(destination)\n",
    "    print('Looking in', source, 'for files with extensions of', ', '.join(extensions))\n",
    "    for foldername, subfolders, filenames in os.walk(source):\n",
    "        for filename in filenames:\n",
    "            name, extension = os.path.splitext(filename)\n",
    "            if extension in extensions:\n",
    "                fileAbsPath = foldername + os.path.sep + filename\n",
    "                print('Coping', fileAbsPath, 'to', destination)\n",
    "                shutil.copy(fileAbsPath, destination)\n",
    "\n",
    "extensions = ['.txt','.doc']\n",
    "source = \"C:\\\\Users\\\\dell\\\\Desktop\"\n",
    "destination = \"C:\\\\Users\\\\dell\\\\Desktop\\\\abc\"\n",
    "Copy(source, extensions, destination)"
   ]
  },
  {
   "cell_type": "code",
   "execution_count": null,
   "id": "32aedce1",
   "metadata": {},
   "outputs": [],
   "source": []
  }
 ],
 "metadata": {
  "kernelspec": {
   "display_name": "Python 3 (ipykernel)",
   "language": "python",
   "name": "python3"
  },
  "language_info": {
   "codemirror_mode": {
    "name": "ipython",
    "version": 3
   },
   "file_extension": ".py",
   "mimetype": "text/x-python",
   "name": "python",
   "nbconvert_exporter": "python",
   "pygments_lexer": "ipython3",
   "version": "3.8.3"
  }
 },
 "nbformat": 4,
 "nbformat_minor": 5
}
