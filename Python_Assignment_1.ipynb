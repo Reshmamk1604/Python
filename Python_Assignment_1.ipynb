{
 "cells": [
  {
   "cell_type": "code",
   "execution_count": null,
   "id": "1f467b5a",
   "metadata": {},
   "outputs": [],
   "source": [
    "In the below elements which of them are values or an expression? eg:- values can be\n",
    "integer or string and expressions will be mathematical operators.\n",
    "*     - expression\n",
    "&#39;hello&#39;   string\n",
    "-87.8     integer\n",
    "-         expression       \n",
    "/         expression \n",
    "+         expression\n",
    "6         integer\n"
   ]
  },
  {
   "cell_type": "code",
   "execution_count": null,
   "id": "b3f2b673",
   "metadata": {},
   "outputs": [],
   "source": [
    "#2. What is the difference between string and variable?\n",
    "course = 'Full stack data science'\n",
    "\n",
    "Here variable is course which can contain any value, like string or int or float etc\n",
    "'Full stack data science' - this is string which is a value"
   ]
  },
  {
   "cell_type": "code",
   "execution_count": null,
   "id": "35b04e47",
   "metadata": {},
   "outputs": [],
   "source": [
    "3. Describe three different data types.\n",
    "\n",
    "String : course = 'Full stack data science'\n",
    "Int : a = 10\n",
    "complex:   b = 34+5j"
   ]
  },
  {
   "cell_type": "code",
   "execution_count": null,
   "id": "713bb557",
   "metadata": {},
   "outputs": [],
   "source": [
    "4. What is an expression made up of? What do all expressions do?\n",
    "\n",
    "Exression is made of variables , values & operators"
   ]
  },
  {
   "cell_type": "code",
   "execution_count": null,
   "id": "f1bb720f",
   "metadata": {},
   "outputs": [],
   "source": [
    "\n",
    "5. This assignment statements, like spam = 10. What is the difference between an\n",
    "expression and a statement?\n",
    "Not sure aboutt he answer so searched it in google\n",
    "Statements represent an action or command e.g print statements, assignment statements.\n",
    "Expression is a combination of variables, operations and values that yields a result\n",
    "\n",
    "6. After running the following code, what does the variable bacon contain?\n",
    "bacon = 22\n",
    "bacon + 1\n",
    "Ans: 22, because after adding, we are not assigning it back to bacon\n",
    "\n",
    "7. What should the values of the following two terms be?\n",
    "&#39;spam&#39; + &#39;spamspam&#39;\n",
    "&#39;spam&#39; * 3\n",
    "Ans: same\n",
    "\n",
    "8. Why is eggs a valid variable name while 100 is invalid?\n",
    "Ans: variable should start with alphabets or _. \n",
    "\n",
    "9. What three functions can be used to get the integer, floating-point number, or string\n",
    "version of a value?\n",
    "ans: type casting: int(1), float(1),str(1)"
   ]
  },
  {
   "cell_type": "code",
   "execution_count": 6,
   "id": "eb5d7797",
   "metadata": {},
   "outputs": [
    {
     "ename": "TypeError",
     "evalue": "can only concatenate str (not \"int\") to str",
     "output_type": "error",
     "traceback": [
      "\u001b[1;31m---------------------------------------------------------------------------\u001b[0m",
      "\u001b[1;31mTypeError\u001b[0m                                 Traceback (most recent call last)",
      "\u001b[1;32m~\\AppData\\Local\\Temp/ipykernel_7160/3507106261.py\u001b[0m in \u001b[0;36m<module>\u001b[1;34m\u001b[0m\n\u001b[1;32m----> 1\u001b[1;33m \u001b[1;34m'I have eaten '\u001b[0m \u001b[1;33m+\u001b[0m \u001b[1;36m99\u001b[0m \u001b[1;33m+\u001b[0m \u001b[1;34m'burritos'\u001b[0m\u001b[1;33m\u001b[0m\u001b[1;33m\u001b[0m\u001b[0m\n\u001b[0m",
      "\u001b[1;31mTypeError\u001b[0m: can only concatenate str (not \"int\") to str"
     ]
    }
   ],
   "source": [
    "#10. Why does this expression cause an error? How can you fix it?\n",
    "#&#39;I have eaten &#39; + 99 + &#39; burritos.&#39;\n",
    "'I have eaten ' + 99 + 'burritos'\n",
    "# causing error becaus of different data types"
   ]
  },
  {
   "cell_type": "code",
   "execution_count": 7,
   "id": "4c922deb",
   "metadata": {},
   "outputs": [
    {
     "data": {
      "text/plain": [
       "'I have eaten 99burritos'"
      ]
     },
     "execution_count": 7,
     "metadata": {},
     "output_type": "execute_result"
    }
   ],
   "source": [
    "#type casting will resolve the issue\n",
    "'I have eaten ' + str(99) + 'burritos'"
   ]
  }
 ],
 "metadata": {
  "kernelspec": {
   "display_name": "Python 3 (ipykernel)",
   "language": "python",
   "name": "python3"
  },
  "language_info": {
   "codemirror_mode": {
    "name": "ipython",
    "version": 3
   },
   "file_extension": ".py",
   "mimetype": "text/x-python",
   "name": "python",
   "nbconvert_exporter": "python",
   "pygments_lexer": "ipython3",
   "version": "3.8.3"
  }
 },
 "nbformat": 4,
 "nbformat_minor": 5
}
