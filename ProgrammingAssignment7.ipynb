{
 "cells": [
  {
   "cell_type": "code",
   "execution_count": 7,
   "id": "f25cc73b",
   "metadata": {},
   "outputs": [
    {
     "name": "stdout",
     "output_type": "stream",
     "text": [
      "21\n"
     ]
    }
   ],
   "source": [
    "#1. Write a Python Program to find sum of array?\n",
    "import numpy as np\n",
    "arr1 =np.array([[1,2,3],[4,5,6]])\n",
    "arr1\n",
    "print(sum(sum(arr1)))"
   ]
  },
  {
   "cell_type": "code",
   "execution_count": 10,
   "id": "5fe1fff5",
   "metadata": {},
   "outputs": [
    {
     "data": {
      "text/plain": [
       "6"
      ]
     },
     "execution_count": 10,
     "metadata": {},
     "output_type": "execute_result"
    }
   ],
   "source": [
    "#2. Write a Python Program to find largest element in an array?\n",
    "np.max(arr1)"
   ]
  },
  {
   "cell_type": "code",
   "execution_count": 17,
   "id": "6d92a9f4",
   "metadata": {},
   "outputs": [
    {
     "name": "stdout",
     "output_type": "stream",
     "text": [
      "[6 5 4 3 2 1]\n"
     ]
    }
   ],
   "source": [
    "#3. Write a Python Program for array rotation?\n",
    "listarr=[]\n",
    "for i,x in np.ndenumerate(arr1):\n",
    "    listarr.append(x)\n",
    "listarr.reverse()\n",
    "print(np.array(listarr))\n"
   ]
  },
  {
   "cell_type": "code",
   "execution_count": 18,
   "id": "b5c0306a",
   "metadata": {},
   "outputs": [
    {
     "name": "stdout",
     "output_type": "stream",
     "text": [
      "Length of array: 4\n",
      "1\n",
      "23\n",
      "24\n",
      "25\n",
      "[1, 23, 24, 25]\n",
      "splitted part is:  [1, 23]\n",
      "after spliting array is:  [24, 25]\n",
      "Final Array:  [24, 25, 1, 23]\n"
     ]
    }
   ],
   "source": [
    "#4. Write a Python Program to Split the array and add the first part to the end?\n",
    "\n",
    "array = []\n",
    "size = int(input(\"Length of array: \"))\n",
    "for i in range(size):\n",
    "    elements = int(input())\n",
    "    array.append(elements)\n",
    "print(array)\n",
    "\n",
    "mid = size//2\n",
    "\n",
    "split = array[:mid]\n",
    "print(\"splitted part is: \",split)\n",
    "\n",
    "array = array[mid:]\n",
    "print(\"after spliting array is: \",array)\n",
    "\n",
    "array = array+split\n",
    "print(\"Final Array: \",array)\n"
   ]
  },
  {
   "cell_type": "code",
   "execution_count": 36,
   "id": "64416aad",
   "metadata": {},
   "outputs": [
    {
     "name": "stdout",
     "output_type": "stream",
     "text": [
      "1\n",
      "2\n",
      "3\n",
      "4\n",
      "5\n",
      "6\n"
     ]
    },
    {
     "data": {
      "text/plain": [
       "False"
      ]
     },
     "execution_count": 36,
     "metadata": {},
     "output_type": "execute_result"
    }
   ],
   "source": [
    "#5. Write a Python Program to check if given array is Monotonic?\n",
    "def monotonic(array):\n",
    "    larr = len(array)\n",
    "    for i in range(0,larr-1):\n",
    "        print(array[i])\n",
    "        if array[i]>array[i+1]:\n",
    "            return False\n",
    "    return True\n",
    "            \n",
    "monotonic([1,2,3,4,5,6,5])        "
   ]
  },
  {
   "cell_type": "code",
   "execution_count": null,
   "id": "7c20a71f",
   "metadata": {},
   "outputs": [],
   "source": []
  }
 ],
 "metadata": {
  "kernelspec": {
   "display_name": "Python 3 (ipykernel)",
   "language": "python",
   "name": "python3"
  },
  "language_info": {
   "codemirror_mode": {
    "name": "ipython",
    "version": 3
   },
   "file_extension": ".py",
   "mimetype": "text/x-python",
   "name": "python",
   "nbconvert_exporter": "python",
   "pygments_lexer": "ipython3",
   "version": "3.8.3"
  }
 },
 "nbformat": 4,
 "nbformat_minor": 5
}
