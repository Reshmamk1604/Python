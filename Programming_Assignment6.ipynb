{
 "cells": [
  {
   "cell_type": "code",
   "execution_count": 6,
   "id": "5cd073da",
   "metadata": {},
   "outputs": [
    {
     "name": "stdout",
     "output_type": "stream",
     "text": [
      "Required length of the series: 8\n",
      "0\n",
      "1\n",
      "1\n",
      "2\n",
      "3\n",
      "5\n",
      "8\n",
      "13\n",
      "None\n"
     ]
    }
   ],
   "source": [
    "#Write a Python Program to Display Fibonacci Sequence Using Recursion?\n",
    "def fibonacci(a,b,n):\n",
    "    if n==0:\n",
    "        return\n",
    "    result = a+b\n",
    "    print(result)\n",
    "    fibonacci(b, result, n-1 )\n",
    "\n",
    "n1 = 0\n",
    "n2 = 1\n",
    "n = int(input(\"Required length of the series: \"))\n",
    "print(n1)\n",
    "print(n2)\n",
    "\n",
    "print(fibonacci(n1,n2,n-2)) # n-2 because intially two numbers are already taken i.e. n1 and n2"
   ]
  },
  {
   "cell_type": "code",
   "execution_count": 7,
   "id": "c028b8ca",
   "metadata": {},
   "outputs": [
    {
     "data": {
      "text/plain": [
       "120"
      ]
     },
     "execution_count": 7,
     "metadata": {},
     "output_type": "execute_result"
    }
   ],
   "source": [
    "#2. Write a Python Program to Find Factorial of Number Using Recursion?\n",
    "def fact(n):\n",
    "    if n==0:\n",
    "        return 1\n",
    "    return n*fact(n-1)\n",
    "\n",
    "fact(5)"
   ]
  },
  {
   "cell_type": "code",
   "execution_count": 8,
   "id": "756e943a",
   "metadata": {},
   "outputs": [
    {
     "name": "stdout",
     "output_type": "stream",
     "text": [
      "Enter weight in kg: 78\n",
      "78.0 kg\n",
      "Enter height in m: 5\n",
      "5.0 m\n",
      "Your BMI is:  3.12\n",
      "Underweight\n"
     ]
    }
   ],
   "source": [
    "#3. Write a Python Program to calculate your Body Mass Index?\n",
    "def bmi(wt,ht):\n",
    "    result = wt/ht**2\n",
    "    print(\"Your BMI is: \",result)\n",
    "    if result>= 18.5 and result<=24.9:\n",
    "        print(\"Healthy\")\n",
    "    elif result<18.5:\n",
    "        print(\"Underweight\")\n",
    "    else:\n",
    "        print(\"overweight\")\n",
    "    \n",
    "weight = float(input(\"Enter weight in kg: \"))\n",
    "print(weight,\"kg\")\n",
    "height = float(input(\"Enter height in m: \"))\n",
    "print(height,\"m\")\n",
    "\n",
    "bmi(weight,height)"
   ]
  },
  {
   "cell_type": "code",
   "execution_count": 11,
   "id": "bcaf571d",
   "metadata": {
    "scrolled": true
   },
   "outputs": [
    {
     "name": "stdout",
     "output_type": "stream",
     "text": [
      "Enter number: 68\n",
      "4.219507705176107\n"
     ]
    }
   ],
   "source": [
    "#4. Write a Python Program to calculate the natural logarithm of any number?\n",
    "import math\n",
    "n = float(input(\"Enter number: \"))\n",
    "print(math.log(n))"
   ]
  },
  {
   "cell_type": "code",
   "execution_count": 16,
   "id": "1542871f",
   "metadata": {},
   "outputs": [
    {
     "name": "stdout",
     "output_type": "stream",
     "text": [
      "1\n",
      "9\n",
      "36\n",
      "100\n",
      "225\n"
     ]
    }
   ],
   "source": [
    "#5. Write a Python Program for cube sum of first n natural numbers?\n",
    "def cube_sum(n):\n",
    "    result = 0\n",
    "    for i in range(1,n+1):\n",
    "        result = result+(i*i*i)\n",
    "        print(result)\n",
    "\n",
    "\n",
    "cube_sum(5)"
   ]
  },
  {
   "cell_type": "code",
   "execution_count": null,
   "id": "f0e3e4b5",
   "metadata": {},
   "outputs": [],
   "source": []
  }
 ],
 "metadata": {
  "kernelspec": {
   "display_name": "Python 3 (ipykernel)",
   "language": "python",
   "name": "python3"
  },
  "language_info": {
   "codemirror_mode": {
    "name": "ipython",
    "version": 3
   },
   "file_extension": ".py",
   "mimetype": "text/x-python",
   "name": "python",
   "nbconvert_exporter": "python",
   "pygments_lexer": "ipython3",
   "version": "3.8.3"
  }
 },
 "nbformat": 4,
 "nbformat_minor": 5
}
