{
 "cells": [
  {
   "cell_type": "code",
   "execution_count": 10,
   "id": "1cd2a9e0",
   "metadata": {},
   "outputs": [
    {
     "name": "stdout",
     "output_type": "stream",
     "text": [
      "Miles =2.48548\n"
     ]
    }
   ],
   "source": [
    "#Write a Python program to convert kilometers to miles?\n",
    "#mi =km * 0.62137\n",
    "km=4\n",
    "mi = 4*0.62137\n",
    "print(f\"Miles ={mi}\")"
   ]
  },
  {
   "cell_type": "code",
   "execution_count": 12,
   "id": "adf8f78f",
   "metadata": {},
   "outputs": [
    {
     "name": "stdout",
     "output_type": "stream",
     "text": [
      "Fahrenheit =50.0\n"
     ]
    }
   ],
   "source": [
    "#2. Write a Python program to convert Celsius to Fahrenheit?\n",
    "#F = C×(9/5)+32\n",
    "c=10\n",
    "print(f\"Fahrenheit ={c*(9/5)+32}\")"
   ]
  },
  {
   "cell_type": "code",
   "execution_count": 18,
   "id": "1ba75c43",
   "metadata": {},
   "outputs": [
    {
     "name": "stdout",
     "output_type": "stream",
     "text": [
      "    October 2021\n",
      "Mo Tu We Th Fr Sa Su\n",
      "             1  2  3\n",
      " 4  5  6  7  8  9 10\n",
      "11 12 13 14 15 16 17\n",
      "18 19 20 21 22 23 24\n",
      "25 26 27 28 29 30 31\n",
      "\n"
     ]
    }
   ],
   "source": [
    "#3. Write a Python program to display calendar?\n",
    "import calendar\n",
    "print(calendar.month(2021,10))"
   ]
  },
  {
   "cell_type": "code",
   "execution_count": 19,
   "id": "eacaec39",
   "metadata": {},
   "outputs": [
    {
     "name": "stdout",
     "output_type": "stream",
     "text": [
      "The solution are (-0.55-0.9473647660748208j) and (-0.55+0.9473647660748208j)\n"
     ]
    }
   ],
   "source": [
    "#4. Write a Python program to solve quadratic equation?\n",
    "#ax^2+bx+c\n",
    "import cmath  \n",
    "a = 10  \n",
    "b = 11 \n",
    "c = 12 \n",
    "  \n",
    "# calculate the discriminant  \n",
    "d = (b**2) - (4*a*c)  \n",
    "  \n",
    "# find two solutions  \n",
    "sol1 = (-b-cmath.sqrt(d))/(2*a)  \n",
    "sol2 = (-b+cmath.sqrt(d))/(2*a)  \n",
    "print('The solution are {0} and {1}'.format(sol1,sol2))   \n",
    "#got this solution from google. i have no idea how to code this"
   ]
  },
  {
   "cell_type": "code",
   "execution_count": 20,
   "id": "7b6c104d",
   "metadata": {},
   "outputs": [
    {
     "name": "stdout",
     "output_type": "stream",
     "text": [
      "15 10\n"
     ]
    }
   ],
   "source": [
    "#5. Write a Python program to swap two variables without temp variable?\n",
    "x=10\n",
    "y=15\n",
    "x=x+y #25\n",
    "y=x-y  #10\n",
    "x=x-y  #15\n",
    "print(x,y)\n"
   ]
  }
 ],
 "metadata": {
  "kernelspec": {
   "display_name": "Python 3 (ipykernel)",
   "language": "python",
   "name": "python3"
  },
  "language_info": {
   "codemirror_mode": {
    "name": "ipython",
    "version": 3
   },
   "file_extension": ".py",
   "mimetype": "text/x-python",
   "name": "python",
   "nbconvert_exporter": "python",
   "pygments_lexer": "ipython3",
   "version": "3.8.3"
  }
 },
 "nbformat": 4,
 "nbformat_minor": 5
}
