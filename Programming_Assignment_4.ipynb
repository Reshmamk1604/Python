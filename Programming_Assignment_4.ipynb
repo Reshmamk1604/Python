{
 "cells": [
  {
   "cell_type": "code",
   "execution_count": 11,
   "id": "96ee533f",
   "metadata": {},
   "outputs": [
    {
     "name": "stdout",
     "output_type": "stream",
     "text": [
      "1\n",
      "2\n",
      "6\n",
      "24\n",
      "120\n",
      "720\n"
     ]
    },
    {
     "data": {
      "text/plain": [
       "720"
      ]
     },
     "execution_count": 11,
     "metadata": {},
     "output_type": "execute_result"
    }
   ],
   "source": [
    "#Write a Python Program to Find the Factorial of a Number?\n",
    "\n",
    "def factorial(n):\n",
    "    fact=1\n",
    "    for i in range(1,n+1):\n",
    "        fact = fact*i\n",
    "        print(fact)\n",
    "    return fact\n",
    "\n",
    "factorial(6)  #6*5*4*3*2*1"
   ]
  },
  {
   "cell_type": "code",
   "execution_count": 18,
   "id": "1192805e",
   "metadata": {},
   "outputs": [
    {
     "name": "stdout",
     "output_type": "stream",
     "text": [
      "1*7=7\n",
      "2*7=14\n",
      "3*7=21\n",
      "4*7=28\n",
      "5*7=35\n",
      "6*7=42\n",
      "7*7=49\n",
      "8*7=56\n",
      "9*7=63\n",
      "10*7=70\n"
     ]
    }
   ],
   "source": [
    "#2. Write a Python Program to Display the multiplication Table?\n",
    "def multtab(n):\n",
    "    for i in range(1,11):\n",
    "        print(f'{i}*{n}={i*n}')\n",
    "    \n",
    "\n",
    "multtab(7)  \n"
   ]
  },
  {
   "cell_type": "code",
   "execution_count": 46,
   "id": "e8afe7ea",
   "metadata": {},
   "outputs": [
    {
     "data": {
      "text/plain": [
       "[1, 1, 2, 3, 5, 8, 13, 21, 34, 55]"
      ]
     },
     "execution_count": 46,
     "metadata": {},
     "output_type": "execute_result"
    }
   ],
   "source": [
    "#3. Write a Python Program to Print the Fibonacci sequence?\n",
    "a=1\n",
    "b=1\n",
    "fib_list=[]\n",
    "    \n",
    "for i in range(10):\n",
    "    fib_list.append(a)\n",
    "    a,b=b,a+b\n",
    "                    \n",
    "fib_list     "
   ]
  },
  {
   "cell_type": "code",
   "execution_count": 15,
   "id": "e054269b",
   "metadata": {},
   "outputs": [
    {
     "name": "stdout",
     "output_type": "stream",
     "text": [
      "enter a number: 153\n",
      "3\n",
      "153\n",
      "Armstrong\n",
      "153\n"
     ]
    }
   ],
   "source": [
    "#4. Write a Python Program to Check Armstrong Number?\n",
    "n=input(\"enter a number: \")\n",
    "n_len = len(n)\n",
    "print(n_len)\n",
    "print(n)\n",
    "i=0\n",
    "result=0\n",
    "\n",
    "while i < n_len:\n",
    "    iresult=pow(int(n[i]),n_len)\n",
    "    result = iresult +result\n",
    "    i=i+1\n",
    "\n",
    "if result == int(n):\n",
    "    print(\"Armstrong\")\n",
    "else:\n",
    "    print(\"Not Armstrong\")\n",
    "print(result)\n"
   ]
  },
  {
   "cell_type": "code",
   "execution_count": 42,
   "id": "e2239cd8",
   "metadata": {},
   "outputs": [
    {
     "name": "stdout",
     "output_type": "stream",
     "text": [
      "enter 1st number for range: 1000\n",
      "enter 2nd number for range: 2000\n",
      "[1634]\n"
     ]
    }
   ],
   "source": [
    "#5. Write a Python Program to Find Armstrong Number in an Interval?\n",
    "m=int(input(\"enter 1st number for range: \"))\n",
    "n=int(input(\"enter 2nd number for range: \"))\n",
    "arm_list=[]\n",
    "for j in range(m,n):\n",
    "    j_len = len(str(j))\n",
    "    i=0\n",
    "    result=0\n",
    "    \n",
    "\n",
    "    while i < j_len:\n",
    "        j_str = str(j)\n",
    "        j_i = j_str[i]\n",
    "        iresult=pow(int(j_i),j_len)\n",
    "        result = iresult +result\n",
    "        i=i+1\n",
    "    \n",
    "    if result == j:\n",
    "        arm_list.append(j)\n",
    "\n",
    "print(arm_list)\n"
   ]
  },
  {
   "cell_type": "code",
   "execution_count": 2,
   "id": "7ed63888",
   "metadata": {},
   "outputs": [
    {
     "name": "stdout",
     "output_type": "stream",
     "text": [
      "210\n"
     ]
    }
   ],
   "source": [
    "#6. Write a Python Program to Find the Sum of Natural Numbers?\n",
    "n=20\n",
    "i=0\n",
    "sum=0\n",
    "while i <= n:\n",
    "    sum=sum+i\n",
    "    i=i+1\n",
    "print(sum)"
   ]
  }
 ],
 "metadata": {
  "kernelspec": {
   "display_name": "Python 3 (ipykernel)",
   "language": "python",
   "name": "python3"
  },
  "language_info": {
   "codemirror_mode": {
    "name": "ipython",
    "version": 3
   },
   "file_extension": ".py",
   "mimetype": "text/x-python",
   "name": "python",
   "nbconvert_exporter": "python",
   "pygments_lexer": "ipython3",
   "version": "3.8.3"
  }
 },
 "nbformat": 4,
 "nbformat_minor": 5
}
